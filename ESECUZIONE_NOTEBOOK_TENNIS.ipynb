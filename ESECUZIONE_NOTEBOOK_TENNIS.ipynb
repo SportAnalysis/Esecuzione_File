{
  "cells": [
    {
      "cell_type": "markdown",
      "metadata": {
        "id": "view-in-github",
        "colab_type": "text"
      },
      "source": [
        "<a href=\"https://colab.research.google.com/github/SportAnalysis/Esecuzione_File/blob/main/ESECUZIONE_NOTEBOOK_TENNIS.ipynb\" target=\"_parent\"><img src=\"https://colab.research.google.com/assets/colab-badge.svg\" alt=\"Open In Colab\"/></a>"
      ]
    },
    {
      "cell_type": "code",
      "execution_count": null,
      "metadata": {
        "colab": {
          "background_save": true
        },
        "id": "Lmf8AF6Ps8YV"
      },
      "outputs": [],
      "source": [
        "!pip install --upgrade papermill\n",
        "\n",
        "# Importa le librerie necessarie\n",
        "import gdown\n",
        "import papermill as pm\n",
        "import requests\n",
        "\n",
        "# Step 1: Scarica il notebook dal link pubblico di Google Drive utilizzando gdown\n",
        "# Link pubblico al tuo notebook su Google Drive\n",
        "file_url = \"https://drive.google.com/uc?id=1MXW8DxLujeaJ84DNtfzGWRsMIWtjPeqw\"\n",
        "output_notebook = \"notebook.ipynb\"\n",
        "\n",
        "# Scarica il notebook\n",
        "print(\"Sto scaricando il notebook da Google Drive...\")\n",
        "gdown.download(file_url, output_notebook, quiet=False)\n",
        "\n",
        "# Step 2: Esegui il notebook scaricato con papermill\n",
        "print(\"Sto eseguendo il notebook scaricato...\")\n",
        "output_executed_notebook = \"notebook_output.ipynb\"\n",
        "\n",
        "pm.execute_notebook(\n",
        "   output_notebook,           # Notebook scaricato\n",
        "   output_executed_notebook    # Notebook di output dopo l'esecuzione\n",
        ")\n",
        "\n",
        "print(f\"Esecuzione completata! Il notebook eseguito è salvato come {output_executed_notebook}\")"
      ]
    }
  ],
  "metadata": {
    "colab": {
      "provenance": [],
      "authorship_tag": "ABX9TyME0uBPW0AzBijh/1yuo/my",
      "include_colab_link": true
    },
    "kernelspec": {
      "display_name": "Python 3",
      "name": "python3"
    },
    "language_info": {
      "name": "python"
    }
  },
  "nbformat": 4,
  "nbformat_minor": 0
}