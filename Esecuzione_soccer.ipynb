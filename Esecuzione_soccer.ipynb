{
  "cells": [
    {
      "cell_type": "markdown",
      "metadata": {
        "id": "view-in-github",
        "colab_type": "text"
      },
      "source": [
        "<a href=\"https://colab.research.google.com/github/SportAnalysis/Esecuzione_File/blob/main/Esecuzione_soccer.ipynb\" target=\"_parent\"><img src=\"https://colab.research.google.com/assets/colab-badge.svg\" alt=\"Open In Colab\"/></a>"
      ]
    },
    {
      "cell_type": "code",
      "execution_count": null,
      "metadata": {
        "colab": {
          "background_save": true,
          "base_uri": "https://localhost:8080/",
          "height": 1000,
          "referenced_widgets": [
            "7725288ad9b544e1bdb2e27f88c64155"
          ]
        },
        "id": "Lmf8AF6Ps8YV",
        "outputId": "cb108c55-cf4d-4d5d-e11f-373ed533944d"
      },
      "outputs": [
        {
          "name": "stdout",
          "output_type": "stream",
          "text": [
            "Requirement already satisfied: papermill in /usr/local/lib/python3.10/dist-packages (2.6.0)\n",
            "Requirement already satisfied: click in /usr/local/lib/python3.10/dist-packages (from papermill) (8.1.7)\n",
            "Requirement already satisfied: pyyaml in /usr/local/lib/python3.10/dist-packages (from papermill) (6.0.2)\n",
            "Requirement already satisfied: nbformat>=5.2.0 in /usr/local/lib/python3.10/dist-packages (from papermill) (5.10.4)\n",
            "Requirement already satisfied: nbclient>=0.2.0 in /usr/local/lib/python3.10/dist-packages (from papermill) (0.10.0)\n",
            "Requirement already satisfied: tqdm>=4.32.2 in /usr/local/lib/python3.10/dist-packages (from papermill) (4.66.5)\n",
            "Requirement already satisfied: requests in /usr/local/lib/python3.10/dist-packages (from papermill) (2.32.3)\n",
            "Requirement already satisfied: entrypoints in /usr/local/lib/python3.10/dist-packages (from papermill) (0.4)\n",
            "Requirement already satisfied: tenacity>=5.0.2 in /usr/local/lib/python3.10/dist-packages (from papermill) (9.0.0)\n",
            "Requirement already satisfied: ansicolors in /usr/local/lib/python3.10/dist-packages (from papermill) (1.1.8)\n",
            "Requirement already satisfied: jupyter-client>=6.1.12 in /usr/local/lib/python3.10/dist-packages (from nbclient>=0.2.0->papermill) (6.1.12)\n",
            "Requirement already satisfied: jupyter-core!=5.0.*,>=4.12 in /usr/local/lib/python3.10/dist-packages (from nbclient>=0.2.0->papermill) (5.7.2)\n",
            "Requirement already satisfied: traitlets>=5.4 in /usr/local/lib/python3.10/dist-packages (from nbclient>=0.2.0->papermill) (5.7.1)\n",
            "Requirement already satisfied: fastjsonschema>=2.15 in /usr/local/lib/python3.10/dist-packages (from nbformat>=5.2.0->papermill) (2.20.0)\n",
            "Requirement already satisfied: jsonschema>=2.6 in /usr/local/lib/python3.10/dist-packages (from nbformat>=5.2.0->papermill) (4.23.0)\n",
            "Requirement already satisfied: charset-normalizer<4,>=2 in /usr/local/lib/python3.10/dist-packages (from requests->papermill) (3.3.2)\n",
            "Requirement already satisfied: idna<4,>=2.5 in /usr/local/lib/python3.10/dist-packages (from requests->papermill) (3.10)\n",
            "Requirement already satisfied: urllib3<3,>=1.21.1 in /usr/local/lib/python3.10/dist-packages (from requests->papermill) (2.2.3)\n",
            "Requirement already satisfied: certifi>=2017.4.17 in /usr/local/lib/python3.10/dist-packages (from requests->papermill) (2024.8.30)\n",
            "Requirement already satisfied: attrs>=22.2.0 in /usr/local/lib/python3.10/dist-packages (from jsonschema>=2.6->nbformat>=5.2.0->papermill) (24.2.0)\n",
            "Requirement already satisfied: jsonschema-specifications>=2023.03.6 in /usr/local/lib/python3.10/dist-packages (from jsonschema>=2.6->nbformat>=5.2.0->papermill) (2023.12.1)\n",
            "Requirement already satisfied: referencing>=0.28.4 in /usr/local/lib/python3.10/dist-packages (from jsonschema>=2.6->nbformat>=5.2.0->papermill) (0.35.1)\n",
            "Requirement already satisfied: rpds-py>=0.7.1 in /usr/local/lib/python3.10/dist-packages (from jsonschema>=2.6->nbformat>=5.2.0->papermill) (0.20.0)\n",
            "Requirement already satisfied: pyzmq>=13 in /usr/local/lib/python3.10/dist-packages (from jupyter-client>=6.1.12->nbclient>=0.2.0->papermill) (24.0.1)\n",
            "Requirement already satisfied: python-dateutil>=2.1 in /usr/local/lib/python3.10/dist-packages (from jupyter-client>=6.1.12->nbclient>=0.2.0->papermill) (2.8.2)\n",
            "Requirement already satisfied: tornado>=4.1 in /usr/local/lib/python3.10/dist-packages (from jupyter-client>=6.1.12->nbclient>=0.2.0->papermill) (6.3.3)\n",
            "Requirement already satisfied: platformdirs>=2.5 in /usr/local/lib/python3.10/dist-packages (from jupyter-core!=5.0.*,>=4.12->nbclient>=0.2.0->papermill) (4.3.6)\n",
            "Requirement already satisfied: six>=1.5 in /usr/local/lib/python3.10/dist-packages (from python-dateutil>=2.1->jupyter-client>=6.1.12->nbclient>=0.2.0->papermill) (1.16.0)\n",
            "Sto scaricando il notebook da Google Drive...\n"
          ]
        },
        {
          "name": "stderr",
          "output_type": "stream",
          "text": [
            "Downloading...\n",
            "From: https://drive.google.com/uc?id=1_SlE3ieAYXU5HivtcflZqQtgd6kwaJ1K\n",
            "To: /content/notebook.ipynb\n",
            "100%|██████████| 61.8k/61.8k [00:00<00:00, 32.4MB/s]"
          ]
        },
        {
          "name": "stdout",
          "output_type": "stream",
          "text": [
            "Sto eseguendo il notebook scaricato...\n"
          ]
        },
        {
          "name": "stderr",
          "output_type": "stream",
          "text": [
            "\n"
          ]
        },
        {
          "data": {
            "application/vnd.jupyter.widget-view+json": {
              "model_id": "7725288ad9b544e1bdb2e27f88c64155",
              "version_major": 2,
              "version_minor": 0
            },
            "text/plain": [
              "Executing:   0%|          | 0/1 [00:00<?, ?cell/s]"
            ]
          },
          "metadata": {},
          "output_type": "display_data"
        },
        {
          "name": "stderr",
          "output_type": "stream",
          "text": [
            "ERROR:papermill:unhandled iopub msg: colab_request\n",
            "ERROR:papermill:unhandled iopub msg: colab_request\n",
            "ERROR:papermill:unhandled iopub msg: colab_request\n",
            "ERROR:papermill:unhandled iopub msg: colab_request\n",
            "ERROR:papermill:unhandled iopub msg: colab_request\n",
            "ERROR:papermill:unhandled iopub msg: colab_request\n",
            "ERROR:papermill:unhandled iopub msg: colab_request\n",
            "ERROR:papermill:unhandled iopub msg: colab_request\n",
            "ERROR:papermill:unhandled iopub msg: colab_request\n",
            "ERROR:papermill:unhandled iopub msg: colab_request\n",
            "ERROR:papermill:unhandled iopub msg: colab_request\n",
            "ERROR:papermill:unhandled iopub msg: colab_request\n",
            "ERROR:papermill:unhandled iopub msg: colab_request\n",
            "ERROR:papermill:unhandled iopub msg: colab_request\n",
            "ERROR:papermill:unhandled iopub msg: colab_request\n",
            "ERROR:papermill:unhandled iopub msg: colab_request\n",
            "ERROR:papermill:unhandled iopub msg: colab_request\n",
            "ERROR:papermill:unhandled iopub msg: colab_request\n",
            "ERROR:papermill:unhandled iopub msg: colab_request\n",
            "ERROR:papermill:unhandled iopub msg: colab_request\n",
            "ERROR:papermill:unhandled iopub msg: colab_request\n"
          ]
        },
        {
          "name": "stdout",
          "output_type": "stream",
          "text": [
            "Esecuzione completata! Il notebook eseguito è salvato come notebook_output.ipynb\n"
          ]
        }
      ],
      "source": [
        "!pip install --upgrade papermill\n",
        "\n",
        "# Importa le librerie necessarie\n",
        "import gdown\n",
        "import papermill as pm\n",
        "import requests\n",
        "\n",
        "# Step 1: Scarica il notebook dal link pubblico di Google Drive utilizzando gdown\n",
        "# Link pubblico al tuo notebook su Google Drive\n",
        "file_url = \"https://colab.research.google.com/drive/1_SlE3ieAYXU5HivtcflZqQtgd6kwaJ1K?usp=drive_link\n",
        "output_notebook = \"notebook.ipynb\"\n",
        "\n",
        "# Scarica il notebook\n",
        "print(\"Sto scaricando il notebook da Google Drive...\")\n",
        "gdown.download(file_url, output_notebook, quiet=False)\n",
        "\n",
        "# Step 2: Esegui il notebook scaricato con papermill\n",
        "print(\"Sto eseguendo il notebook scaricato...\")\n",
        "output_executed_notebook = \"notebook_output.ipynb\"\n",
        "\n",
        "pm.execute_notebook(\n",
        "   output_notebook,           # Notebook scaricato\n",
        "   output_executed_notebook    # Notebook di output dopo l'esecuzione\n",
        ")\n",
        "\n",
        "print(f\"Esecuzione completata! Il notebook eseguito è salvato come {output_executed_notebook}\")"
      ]
    }
  ],
  "metadata": {
    "colab": {
      "provenance": [],
      "authorship_tag": "ABX9TyNVBF6OGh0TifgtYug6M4oU",
      "include_colab_link": true
    },
    "kernelspec": {
      "display_name": "Python 3",
      "name": "python3"
    },
    "language_info": {
      "name": "python"
    }
  },
  "nbformat": 4,
  "nbformat_minor": 0
}
